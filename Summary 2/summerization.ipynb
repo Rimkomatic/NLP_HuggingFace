{
 "cells": [
  {
   "cell_type": "markdown",
   "id": "87b0d3fb",
   "metadata": {},
   "source": [
    "# Text Summerization \n",
    "\n",
    "<br><hr>\n",
    "\n",
    "Here we will use the [Saravananofficial/Text_Summarizer](https://huggingface.co/Saravananofficial/Text_Summarizer?text=No+hike+in+basic+exemption%2C+no+increase+in+deductions%2C+not+even+a+change+in+tax+slabs%E2%80%93+why+should+taxpayers+feel+happy+about+the+interim+Budget+announced+last+week%3F+Let+us+enumerate+the+reasons.+For+one%2C+the+government+has+extended+an+olive+branch+to+taxpayers+stuck+with+petty+tax+demands+of+previous+years.+The+Budget+has+proposed+to+withdraw+all+direct+tax+demands+up+to+Rs.25%2C000+till+the+year+2009-10+and+up+to+Rs.10%2C000+for+the+years+2010-11+to+2014-15.The+move+is+expected+to+benefit+an+estimated+1+crore+taxpayers%2C+who+are+still+disputing+these+tax+demands.+It+will+not+only+free+them+from+the+tussle+with+the+taxman%2C+but+also+pave+the+way+for+tax+refunds+that+were+held+up+due+to+pending+tax+demands.+Rajarshi+Dasgupta%2C+Executive+Director+and+National+Head+of+Tax%2C+AQUILAW%2C+observed%2C+%E2%80%9CIn+case+of+a+pending+tax+demand%2C+any+refund+in+the+subsequent+year+is+not+processed+unless+such+demand+is+addressed.+By+disposing+of+the+demands%2C+many+refund+claims+will+be+expedited.%E2%80%9D) model from Hugging Face, and the data we will get from [livemint](https://www.livemint.com/economy/budget-2024-25-key-highlights-live-updates-interim-budget-agriculture-infra-fiscal-deficit-nirmala-sitharaman-11706695416199.html)'s coverage on Budget 24."
   ]
  },
  {
   "cell_type": "code",
   "execution_count": 2,
   "id": "b5ca7255",
   "metadata": {},
   "outputs": [
    {
     "name": "stdout",
     "output_type": "stream",
     "text": [
      "WARNING:tensorflow:From C:\\Users\\KIIT\\anaconda3\\Lib\\site-packages\\keras\\src\\losses.py:2976: The name tf.losses.sparse_softmax_cross_entropy is deprecated. Please use tf.compat.v1.losses.sparse_softmax_cross_entropy instead.\n",
      "\n"
     ]
    }
   ],
   "source": [
    "from transformers import pipeline"
   ]
  },
  {
   "cell_type": "markdown",
   "id": "ecc39b9e",
   "metadata": {},
   "source": [
    "## Loading the model"
   ]
  },
  {
   "cell_type": "code",
   "execution_count": 1,
   "id": "e8eb05c4",
   "metadata": {
    "scrolled": false
   },
   "outputs": [
    {
     "data": {
      "application/vnd.jupyter.widget-view+json": {
       "model_id": "5a87c2fe339f467aa94a06f21caf48e0",
       "version_major": 2,
       "version_minor": 0
      },
      "text/plain": [
       "tokenizer.json:   0%|          | 0.00/1.36M [00:00<?, ?B/s]"
      ]
     },
     "metadata": {},
     "output_type": "display_data"
    },
    {
     "name": "stderr",
     "output_type": "stream",
     "text": [
      "C:\\Users\\KIIT\\anaconda3\\Lib\\site-packages\\huggingface_hub\\file_download.py:149: UserWarning: `huggingface_hub` cache-system uses symlinks by default to efficiently store duplicated files but your machine does not support them in C:\\Users\\KIIT\\.cache\\huggingface\\hub\\models--facebook--bart-large-cnn. Caching files will still work but in a degraded version that might require more space on your disk. This warning can be disabled by setting the `HF_HUB_DISABLE_SYMLINKS_WARNING` environment variable. For more details, see https://huggingface.co/docs/huggingface_hub/how-to-cache#limitations.\n",
      "To support symlinks on Windows, you either need to activate Developer Mode or to run Python as an administrator. In order to see activate developer mode, see this article: https://docs.microsoft.com/en-us/windows/apps/get-started/enable-your-device-for-development\n",
      "  warnings.warn(message)\n"
     ]
    },
    {
     "data": {
      "application/vnd.jupyter.widget-view+json": {
       "model_id": "d3cca2fe6c8a40bdb2c3d33347fe13bd",
       "version_major": 2,
       "version_minor": 0
      },
      "text/plain": [
       "generation_config.json:   0%|          | 0.00/363 [00:00<?, ?B/s]"
      ]
     },
     "metadata": {},
     "output_type": "display_data"
    }
   ],
   "source": [
    "from transformers import BartTokenizer, BartForConditionalGeneration\n",
    "\n",
    "# Load pre-trained model and tokenizer\n",
    "tokenizer = BartTokenizer.from_pretrained(\"facebook/bart-large-cnn\")\n",
    "model = BartForConditionalGeneration.from_pretrained(\"facebook/bart-large-cnn\")"
   ]
  },
  {
   "cell_type": "markdown",
   "id": "6f36ce00",
   "metadata": {},
   "source": [
    "# Scrapping web"
   ]
  },
  {
   "cell_type": "code",
   "execution_count": 2,
   "id": "5205fe8b",
   "metadata": {},
   "outputs": [
    {
     "data": {
      "text/plain": [
       "'Budget 2024 Key Highlights LIVE Updates: Union Finance Minister Nirmala Sitharaman presented her sixth Budget on February 1. This was an interim budget ahead of the general elections later this year. The Interim Budget 2024 was focused on youth and women empowerment, while maintaining fiscal consolidation and continuing capex. FM Sitharaman lowered down FY25 fiscal deficit target to 5.1% of the GDP. There were no changes made to the direct tax and indirect tax rates. Read the latest news on\\xa0Budget 2024 with our live coverage on the\\xa0Income Tax Slab,\\xa0Impact on Share Market, Budget Key Highlights, Corporate Reactions, and\\xa0Funny Memes.10 key takeaways from FM Sitharaman’s post-budget presser1] Finance Minister Nirmala Sitharaman stressed on 5 ‘Disha Nirdashak’ baatein: Social justice as an effective governance model; Focus on the poor, youth, women, and the Annadata (farmers); Focus on infrastructure; Use of technology to improve productivity and High power committee for challenges arising from demographic challenges.2] India has had three consecutive years of 7% GDP growth and is the fastest growing economy in G20.3] GDP is Government, Development and Performance. We have delivered on Development and have better managed the economy. We are bringing down the fiscal deficit despite very challenging times.4] Capex from the government will continue, it is important to continue it, FM said.5] India, Middle East, European Corridor (IMEC) project to be taken forward despite disturbances in Red Sea.6] The withdrawal of 1.1 crore outstanding small direct tax demands for certain years will cost less than ₹3,500 crore to the exchequer, said Revenue Secretary Sanjay Malhotra.7] No extension of lower tax rate to new manufacturing units coming into place after March 2024, FM clarified.8] Do not have a fixed target for disinvestment in FY25, said DIPAM Secretary Tuhin Kanta Pandey.9] We are not only aligning with the fiscal consolidation path given earlier, but we are also bettering it, Finance Minister Nirmala Sitharaman said in her message to credit rating agencies10] The relevance of the target to reduce the Centre’s debt-to-GDP ratio to 40% was set before COVID-19 period and now has to be examined, Finance Secretary TV Somanathan said.'"
      ]
     },
     "execution_count": 2,
     "metadata": {},
     "output_type": "execute_result"
    }
   ],
   "source": [
    "import requests\n",
    "from bs4 import BeautifulSoup\n",
    "\n",
    "url = 'https://www.livemint.com/economy/budget-2024-25-key-highlights-live-updates-interim-budget-agriculture-infra-fiscal-deficit-nirmala-sitharaman-11706695416199.html'\n",
    "response = requests.get(url)\n",
    "soup = BeautifulSoup(response.content, 'html.parser')\n",
    "live_sec_intro = soup.find(class_='liveSecIntro')\n",
    "web_text = None\n",
    "if live_sec_intro:\n",
    "    web_text = live_sec_intro.get_text().strip()\n",
    "\n",
    "web_text"
   ]
  },
  {
   "cell_type": "markdown",
   "id": "e9351d22",
   "metadata": {},
   "source": [
    "# Applying Model"
   ]
  },
  {
   "cell_type": "code",
   "execution_count": 3,
   "id": "8a599262",
   "metadata": {},
   "outputs": [
    {
     "name": "stdout",
     "output_type": "stream",
     "text": [
      "Budget 2024 Key Highlights LIVE Updates: Union Finance Minister Nirmala Sitharaman presented her sixth Budget on February 1. This was an interim budget ahead of the general elections later this year.\n"
     ]
    }
   ],
   "source": [
    "input_ids = tokenizer(web_text, return_tensors=\"pt\", max_length=50, truncation=True)[\"input_ids\"]\n",
    "\n",
    "summary_ids = model.generate(input_ids, max_length=150, min_length=40, length_penalty=2.0, num_beams=4, early_stopping=True)\n",
    "summary = tokenizer.decode(summary_ids[0], skip_special_tokens=True)\n",
    "\n",
    "# Print summary\n",
    "print(summary)"
   ]
  }
 ],
 "metadata": {
  "kernelspec": {
   "display_name": "Python 3 (ipykernel)",
   "language": "python",
   "name": "python3"
  },
  "language_info": {
   "codemirror_mode": {
    "name": "ipython",
    "version": 3
   },
   "file_extension": ".py",
   "mimetype": "text/x-python",
   "name": "python",
   "nbconvert_exporter": "python",
   "pygments_lexer": "ipython3",
   "version": "3.11.5"
  }
 },
 "nbformat": 4,
 "nbformat_minor": 5
}

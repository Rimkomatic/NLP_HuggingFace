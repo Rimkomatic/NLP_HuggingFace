{
 "cells": [
  {
   "cell_type": "markdown",
   "id": "8b334ae4",
   "metadata": {},
   "source": [
    "# Information Extraction \n",
    "\n",
    "<br><hr>\n",
    "\n",
    "We will extract information from the website name and using [Babelscape/wikineural-multilingual-ner](https://huggingface.co/Babelscape/wikineural-multilingual-ner?text=George+Washington+went+to+Washington.) model from Hugging Face"
   ]
  },
  {
   "cell_type": "markdown",
   "id": "d1f2f829",
   "metadata": {},
   "source": [
    "# Loading the model"
   ]
  },
  {
   "cell_type": "code",
   "execution_count": 1,
   "id": "8898bce8",
   "metadata": {
    "scrolled": false
   },
   "outputs": [
    {
     "name": "stdout",
     "output_type": "stream",
     "text": [
      "WARNING:tensorflow:From C:\\Users\\KIIT\\anaconda3\\Lib\\site-packages\\keras\\src\\losses.py:2976: The name tf.losses.sparse_softmax_cross_entropy is deprecated. Please use tf.compat.v1.losses.sparse_softmax_cross_entropy instead.\n",
      "\n"
     ]
    }
   ],
   "source": [
    "from transformers import AutoTokenizer, AutoModelForTokenClassification\n",
    "from transformers import pipeline"
   ]
  },
  {
   "cell_type": "code",
   "execution_count": 8,
   "id": "44775304",
   "metadata": {},
   "outputs": [],
   "source": [
    "tokenizer = AutoTokenizer.from_pretrained(\"Babelscape/wikineural-multilingual-ner\")\n",
    "model = AutoModelForTokenClassification.from_pretrained(\"Babelscape/wikineural-multilingual-ner\")"
   ]
  },
  {
   "cell_type": "markdown",
   "id": "e4507e79",
   "metadata": {},
   "source": [
    "# Extracting data from website "
   ]
  },
  {
   "cell_type": "code",
   "execution_count": 11,
   "id": "aaeda46c",
   "metadata": {},
   "outputs": [],
   "source": [
    "import requests\n",
    "from bs4 import BeautifulSoup"
   ]
  },
  {
   "cell_type": "code",
   "execution_count": 99,
   "id": "d5bbb5cb",
   "metadata": {
    "scrolled": false
   },
   "outputs": [
    {
     "data": {
      "text/plain": [
       "'Health cover under the Ayushman Bharat Pradhan Mantri Jan Arogya Yojana will be extended to all Accredited Social Health Activist (ASHA) and anganwadi workers and helpers said Finance Minister Nirmala Sitharaman on Thursday, while announcing the interim Union Budget 2024-25. Union Finance Minister Nirmala Sitharaman holding a folder-case containing the Interim Budget 2024\\n| Photo Credit:\\nSHIV KUMAR PUSHPAKAR While a full budget for 2024-25 will be announced after the new government is formed following the Lok Sabha elections later this year the budget allocation saw an increase from ₹89,155 crore in 2023-24 to ₹90,658.63 crore for the Ministry of Health and Family Welfare while Ayush Ministry also saw a hike from ₹3,647.50 crore to ₹3,712.49 crore. Budget 2024 live | Interim budget leaves tax structure untouched; FM details Centre’s achievements For the health sector, the Minister added that India will be bringing in the services of the newly designed U-WIN platform for managing immunisation and intensified efforts of Mission Indradhanush. “This is to be rolled out expeditiously throughout the country,” the Minister said during her nigh hour long speech. The other major addition in the sector includes utilising the existing hospital infrastructure under various departments to offer medical seats to students and encouraging HPV vaccination for girls in the age group of 9 to 14 years for prevention of cervical cancer. The government also proposed to combine various schemes for maternal and childcare and bring them under one comprehensive programme for synergy. The Minister added that, as part of the Skill India Mission, youth are being trained through various world-class institutes including 15 newly constructed All India Institute of Medical Sciences. “Several youth have the ambition to get qualified as doctors. They aim to serve our people through improved healthcare services. Our Government plans to set up more medical colleges by utilizing the existing hospital infrastructure under various departments. A committee for this purpose will be set-up to examine the issues and make relevant recommendations,” the Minister said. The Minister added that geopolitically, global affairs are becoming more challenging with wars and conflicts. “Globalisation is being redefined with reshoring and friend-shoring, disruption and fragmentation of supply chains, and competition for critical minerals and technologies. A new world order is emerging after the COVID-19 pandemic,” the Minister said. The budget also announced upgradation of Anganwadi centres under ‘Saksham Anganwadi’ and Poshan 2.0 will be expedited to improve nutrition delivery, early childhood care, and development. The sectors that saw increased allocation of funds in the last 2023-24 budget included Ayushman Bharat-Pradhan Mantri Jan Arogya Yojana, CGHS pensioners, and the National AIDS and STD programme. This year continued with that trend although allocation for development of nursing services did witness a drop. COMMents SHARE Union Budget / budgets and budgeting / business (general) / economy, business and finance '"
      ]
     },
     "execution_count": 99,
     "metadata": {},
     "output_type": "execute_result"
    }
   ],
   "source": [
    "def scrape_website(url):\n",
    "    response = requests.get(url)\n",
    "    if response.status_code == 200:\n",
    "        soup = BeautifulSoup(response.content, 'html.parser')\n",
    "        story_body_divs = soup.find_all('div', class_='articlebodycontent')\n",
    "        scraped_text = \"\"\n",
    "        for story_body_div in story_body_divs:\n",
    "            p_tags = story_body_div.find_all('p')\n",
    "            for p_tag in p_tags:\n",
    "                scraped_text += p_tag.get_text(separator=' ', strip=True) + ' '\n",
    "        return scraped_text\n",
    "    else:\n",
    "        return None\n",
    "\n",
    "url = 'https://www.thehindu.com/business/budget/ayushman-bharat-health-care-cover-to-be-extended-to-all-asha-anganwadi-workers-says-fm-nirmala-sitharaman/article67799628.ece'  \n",
    "text = scrape_website(url)\n",
    "text"
   ]
  },
  {
   "cell_type": "markdown",
   "id": "d7f565d5",
   "metadata": {},
   "source": [
    "# Performing NER in the extracted data"
   ]
  },
  {
   "cell_type": "code",
   "execution_count": 111,
   "id": "95bb08bf",
   "metadata": {},
   "outputs": [],
   "source": [
    "text = \"Budget has proposed to withdraw all direct tax demands taxpayers are still disputing tax demands  Income-tax Department has been notified of Tax filing portal TaxSpanner says it is Taxpayers, especially those with pending taxpayers who are yet to pay pending Rapid urbanisation, high property prices, in Grihum Housing Finance (formerly Poon the specifics of the proposed scheme should be government’s existing credit linked subsidy scheme Budget reiterated government’s focus on infrastructure the input prices will further provide support to the allocation for public health insurance scheme increased from Rs development, port connectivity and improvement of tourism infrastructure\""
   ]
  },
  {
   "cell_type": "code",
   "execution_count": 112,
   "id": "2e7581f6",
   "metadata": {
    "scrolled": false
   },
   "outputs": [
    {
     "name": "stdout",
     "output_type": "stream",
     "text": [
      "[{'entity_group': 'ORG', 'score': 0.612234, 'word': 'Income', 'start': 98, 'end': 104}, {'entity_group': 'ORG', 'score': 0.61001265, 'word': 'tax Department', 'start': 105, 'end': 119}, {'entity_group': 'ORG', 'score': 0.88566506, 'word': 'TaxSpanner', 'start': 159, 'end': 169}, {'entity_group': 'ORG', 'score': 0.4449993, 'word': 'Tax', 'start': 181, 'end': 184}, {'entity_group': 'ORG', 'score': 0.74905574, 'word': 'Grihum Housing Finance', 'start': 304, 'end': 326}, {'entity_group': 'ORG', 'score': 0.58311063, 'word': 'Poon', 'start': 337, 'end': 341}]\n"
     ]
    }
   ],
   "source": [
    "nlp = pipeline(\"ner\", model=model, tokenizer=tokenizer, grouped_entities='true')\n",
    "ner_data = nlp(text)\n",
    "print(ner_data)"
   ]
  },
  {
   "cell_type": "markdown",
   "id": "b189fc14",
   "metadata": {},
   "source": [
    "# Using colored text to represent the NER"
   ]
  },
  {
   "cell_type": "code",
   "execution_count": 113,
   "id": "ffa0fb66",
   "metadata": {},
   "outputs": [],
   "source": [
    "from termcolor import colored\n",
    "import re"
   ]
  },
  {
   "cell_type": "code",
   "execution_count": 114,
   "id": "fa2c08cf",
   "metadata": {
    "scrolled": false
   },
   "outputs": [
    {
     "name": "stdout",
     "output_type": "stream",
     "text": [
      "Budget has proposed to withdraw all direct tax demands taxpayers are still disputing tax demands  \u001b[1m\u001b[42m\u001b[30mORG:\u001b[0m \u001b[1m\u001b[32mIncome\u001b[0m-\u001b[1m\u001b[42m\u001b[30mORG:\u001b[0m \u001b[1m\u001b[32mtax Department\u001b[0m has been notified of Tax filing portal \u001b[1m\u001b[42m\u001b[30mORG:\u001b[0m \u001b[1m\u001b[32mTaxSpanner\u001b[0m says it is \u001b[1m\u001b[42m\u001b[30mORG:\u001b[0m \u001b[1m\u001b[32mTax\u001b[0mpayers, especially those with pending taxpayers who are yet to pay pending Rapid urbanisation, high property prices, in \u001b[1m\u001b[42m\u001b[30mORG:\u001b[0m \u001b[1m\u001b[32mGrihum Housing Finance\u001b[0m (formerly \u001b[1m\u001b[42m\u001b[30mORG:\u001b[0m \u001b[1m\u001b[32mPoon\u001b[0m the specifics of the proposed scheme should be government’s existing credit linked subsidy scheme Budget reiterated government’s focus on infrastructure the input prices will further provide support to the allocation for public health insurance scheme increased from Rs development, port connectivity and improvement of tourism infrastructure\n"
     ]
    }
   ],
   "source": [
    "\n",
    "colored_text = \"\"\n",
    "\n",
    "ner_data_sorted = sorted(ner_data, key=lambda x: x['start'])\n",
    "\n",
    "current_position = 0\n",
    "\n",
    "for entity in ner_data_sorted:\n",
    "    start = entity['start']\n",
    "    end = entity['end']\n",
    "    word = entity['word']\n",
    "    entity_group = entity['entity_group']\n",
    "    \n",
    "    colored_text += text[current_position:start]\n",
    "    \n",
    "    # Determine the color associated with the entity group\n",
    "    if entity_group == 'PER':\n",
    "        entity_color = 'red'\n",
    "    elif entity_group == 'ORG':\n",
    "        entity_color = 'green'\n",
    "    elif entity_group == 'LOC':\n",
    "        entity_color = 'cyan'\n",
    "    else:\n",
    "        entity_color = 'blue' \n",
    "    \n",
    "    label_text_color = 'black'\n",
    "    \n",
    "    if entity_color == 'red':\n",
    "        entity_background_color = 'on_red'\n",
    "    elif entity_color == 'green':\n",
    "        entity_background_color = 'on_green'\n",
    "    elif entity_color == 'cyan':\n",
    "        entity_background_color = 'on_cyan'\n",
    "    else:\n",
    "        entity_background_color = 'on_blue'\n",
    "    \n",
    "    colored_label = colored(entity_group + ':', label_text_color, attrs=['bold'], on_color=entity_background_color)\n",
    "    \n",
    "    colored_entity = colored(word, entity_color, attrs=['bold'])\n",
    "    \n",
    "    colored_text += colored_label + ' ' + colored_entity\n",
    "    \n",
    "    current_position = end\n",
    "\n",
    "colored_text += text[current_position:]\n",
    "\n",
    "print(colored_text)"
   ]
  },
  {
   "cell_type": "code",
   "execution_count": null,
   "id": "d220dc83",
   "metadata": {},
   "outputs": [],
   "source": []
  }
 ],
 "metadata": {
  "kernelspec": {
   "display_name": "Python 3 (ipykernel)",
   "language": "python",
   "name": "python3"
  },
  "language_info": {
   "codemirror_mode": {
    "name": "ipython",
    "version": 3
   },
   "file_extension": ".py",
   "mimetype": "text/x-python",
   "name": "python",
   "nbconvert_exporter": "python",
   "pygments_lexer": "ipython3",
   "version": "3.11.5"
  }
 },
 "nbformat": 4,
 "nbformat_minor": 5
}

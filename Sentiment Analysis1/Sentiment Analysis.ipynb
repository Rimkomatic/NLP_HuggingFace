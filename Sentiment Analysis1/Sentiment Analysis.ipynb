{
 "cells": [
  {
   "cell_type": "markdown",
   "id": "7a9c42b1",
   "metadata": {},
   "source": [
    "# Sentiment Analysis\n",
    "\n",
    "<br>\n",
    "\n",
    "We are using [this](https://huggingface.co/lxyuan/distilbert-base-multilingual-cased-sentiments-student)\n",
    " model from Hugging Face"
   ]
  },
  {
   "cell_type": "markdown",
   "id": "2f0cede9",
   "metadata": {},
   "source": [
    "### Install the transformers library"
   ]
  },
  {
   "cell_type": "code",
   "execution_count": null,
   "id": "cb9ba139",
   "metadata": {},
   "outputs": [],
   "source": [
    "!pip install datasets transformers==4.28.0\n",
    "!pip install --upgrade accelerate\n",
    "!pip install torchvision "
   ]
  },
  {
   "cell_type": "markdown",
   "id": "93872438",
   "metadata": {},
   "source": [
    "<br>\n",
    "\n",
    "## Importing packages "
   ]
  },
  {
   "cell_type": "code",
   "execution_count": 1,
   "id": "506e2c75",
   "metadata": {},
   "outputs": [],
   "source": [
    "import torch\n",
    "import pandas as pd\n",
    "import numpy as np\n",
    "from transformers import AutoTokenizer, AutoModelForSequenceClassification, Trainer"
   ]
  },
  {
   "cell_type": "markdown",
   "id": "935a29e6",
   "metadata": {},
   "source": [
    "<br>\n",
    "\n",
    "## Class for Data Preparation"
   ]
  },
  {
   "cell_type": "code",
   "execution_count": 2,
   "id": "a2665de4",
   "metadata": {},
   "outputs": [],
   "source": [
    "class SimpleDataset:\n",
    "    def __init__(self, tokenized_texts):\n",
    "        self.tokenized_texts = tokenized_texts\n",
    "    \n",
    "    def __len__(self):\n",
    "        return len(self.tokenized_texts[\"input_ids\"])\n",
    "    \n",
    "    def __getitem__(self, idx):\n",
    "        return {k: v[idx] for k, v in self.tokenized_texts.items()}"
   ]
  },
  {
   "cell_type": "markdown",
   "id": "256681d4",
   "metadata": {},
   "source": [
    "# Load tokenizer and model, create trainer"
   ]
  },
  {
   "cell_type": "code",
   "execution_count": 3,
   "id": "ba01f55a",
   "metadata": {},
   "outputs": [],
   "source": [
    "model_name = \"siebert/sentiment-roberta-large-english\"\n",
    "tokenizer = AutoTokenizer.from_pretrained(model_name)\n",
    "model = AutoModelForSequenceClassification.from_pretrained(model_name)\n",
    "trainer = Trainer(model=model)"
   ]
  },
  {
   "cell_type": "markdown",
   "id": "1b4780ec",
   "metadata": {},
   "source": [
    "<br>\n",
    "<br>\n",
    "\n",
    "# Testing the Model\n",
    "\n",
    "<hr>"
   ]
  },
  {
   "cell_type": "code",
   "execution_count": 4,
   "id": "f1fe5881",
   "metadata": {},
   "outputs": [],
   "source": [
    "pred_texts = ['No hike in basic exemption, no increase in deductions, not even a change in tax slabs– why should taxpayers feel happy about the interim Budget announced last week','That is annoying','This is great!','Wouldn´t recommend it.']"
   ]
  },
  {
   "cell_type": "code",
   "execution_count": 5,
   "id": "7aae9e3b",
   "metadata": {},
   "outputs": [],
   "source": [
    "tokenized_texts = tokenizer(pred_texts,truncation=True,padding=True)\n",
    "pred_dataset = SimpleDataset(tokenized_texts)"
   ]
  },
  {
   "cell_type": "code",
   "execution_count": 6,
   "id": "23f9ac49",
   "metadata": {},
   "outputs": [
    {
     "data": {
      "text/html": [],
      "text/plain": [
       "<IPython.core.display.HTML object>"
      ]
     },
     "metadata": {},
     "output_type": "display_data"
    }
   ],
   "source": [
    "predictions = trainer.predict(pred_dataset)"
   ]
  },
  {
   "cell_type": "code",
   "execution_count": 7,
   "id": "ff7b090d",
   "metadata": {},
   "outputs": [],
   "source": [
    "preds = predictions.predictions.argmax(-1)\n",
    "labels = pd.Series(preds).map(model.config.id2label)\n",
    "scores = (np.exp(predictions[0])/np.exp(predictions[0]).sum(-1,keepdims=True)).max(1)"
   ]
  },
  {
   "cell_type": "code",
   "execution_count": 8,
   "id": "7f0d6f92",
   "metadata": {},
   "outputs": [
    {
     "data": {
      "text/html": [
       "<div>\n",
       "<style scoped>\n",
       "    .dataframe tbody tr th:only-of-type {\n",
       "        vertical-align: middle;\n",
       "    }\n",
       "\n",
       "    .dataframe tbody tr th {\n",
       "        vertical-align: top;\n",
       "    }\n",
       "\n",
       "    .dataframe thead th {\n",
       "        text-align: right;\n",
       "    }\n",
       "</style>\n",
       "<table border=\"1\" class=\"dataframe\">\n",
       "  <thead>\n",
       "    <tr style=\"text-align: right;\">\n",
       "      <th></th>\n",
       "      <th>text</th>\n",
       "      <th>pred</th>\n",
       "      <th>label</th>\n",
       "      <th>score</th>\n",
       "    </tr>\n",
       "  </thead>\n",
       "  <tbody>\n",
       "    <tr>\n",
       "      <th>0</th>\n",
       "      <td>No hike in basic exemption, no increase in ded...</td>\n",
       "      <td>0</td>\n",
       "      <td>NEGATIVE</td>\n",
       "      <td>0.999482</td>\n",
       "    </tr>\n",
       "    <tr>\n",
       "      <th>1</th>\n",
       "      <td>That is annoying</td>\n",
       "      <td>0</td>\n",
       "      <td>NEGATIVE</td>\n",
       "      <td>0.999409</td>\n",
       "    </tr>\n",
       "    <tr>\n",
       "      <th>2</th>\n",
       "      <td>This is great!</td>\n",
       "      <td>1</td>\n",
       "      <td>POSITIVE</td>\n",
       "      <td>0.998727</td>\n",
       "    </tr>\n",
       "    <tr>\n",
       "      <th>3</th>\n",
       "      <td>Wouldn´t recommend it.</td>\n",
       "      <td>0</td>\n",
       "      <td>NEGATIVE</td>\n",
       "      <td>0.999486</td>\n",
       "    </tr>\n",
       "  </tbody>\n",
       "</table>\n",
       "</div>"
      ],
      "text/plain": [
       "                                                text  pred     label     score\n",
       "0  No hike in basic exemption, no increase in ded...     0  NEGATIVE  0.999482\n",
       "1                                   That is annoying     0  NEGATIVE  0.999409\n",
       "2                                     This is great!     1  POSITIVE  0.998727\n",
       "3                             Wouldn´t recommend it.     0  NEGATIVE  0.999486"
      ]
     },
     "execution_count": 8,
     "metadata": {},
     "output_type": "execute_result"
    }
   ],
   "source": [
    "df = pd.DataFrame(list(zip(pred_texts,preds,labels,scores)), columns=['text','pred','label','score'])\n",
    "df.head()"
   ]
  },
  {
   "cell_type": "markdown",
   "id": "b86abb20",
   "metadata": {},
   "source": [
    "<br>\n",
    "<br>\n",
    "\n",
    "# Scrapping the Web for Data\n",
    "\n",
    "<hr>\n"
   ]
  },
  {
   "cell_type": "markdown",
   "id": "f320c5ea",
   "metadata": {},
   "source": [
    "As we can see, our model takes input of a sentence to find the sentiment it shows. <br>\n",
    "Thus we need to extract the data split the sentence and store it into a set."
   ]
  },
  {
   "cell_type": "code",
   "execution_count": 2,
   "id": "163071c4",
   "metadata": {},
   "outputs": [],
   "source": [
    "import requests\n",
    "from bs4 import BeautifulSoup"
   ]
  },
  {
   "cell_type": "code",
   "execution_count": 3,
   "id": "fc453320",
   "metadata": {},
   "outputs": [
    {
     "data": {
      "text/plain": [
       "'No hike in basic exemption, no increase in deductions, not even a change in tax slabs– why should taxpayers feel happy about the interim Budget announced last week? Let us enumerate the reasons. For one, the government has extended an olive branch to taxpayers stuck with petty tax demands of previous years. The Budget has proposed to withdraw all direct tax demands up to Rs.25,000 till the year 2009-10 and up to Rs.10,000 for the years 2010-11 to 2014-15.The move is expected to benefit an estimated 1 crore taxpayers, who are still disputing these tax demands. It will not only free them from the tussle with the taxman, but also pave the way for tax refunds that were held up due to pending tax demands. Rajarshi Dasgupta, Executive Director and National Head of Tax, AQUILAW, observed, “In case of a pending tax demand, any refund in the subsequent year is not processed unless such demand is addressed. By disposing of the demands, many refund claims will be expedited.”The proposal comes at a time when taxpayers are getting notices from the Income-tax Department for tax demands of previous years, some of them dating back more than 15 years. “The digitalisation of old tax records has resulted in numerous individuals facing minor demands related to past years. In most situations, even the tax department does not have the supporting documents,” says Nabin Ballodia, Partner & Leader (North), Tax & Regulatory Services, BDO India.Note:“Digitalisation of old tax records has resulted in demands of past years. In most cases, even the tax department does not have supporting documents.”Investors looking for twin engines of quality and growth.NABIN BALLODIAPARTNER & LEADER (NORTH), TAX & REGULATORY SERVICES, BDO INDIAExperts feel this relief was much needed and is aimed at improving taxpayer experience. Sudhir Kaushik, Founder of tax filing portal TaxSpanner, says, “It is not a small relief when you see the number of affected taxpayers. Older demands are painful because it is difficult to keep records for so long and defend. Taxpayers, especially those with pending refunds, were facing a lot of problems.”Instead of going through the hassles of an appeal, taxpayers often choose to pay up without challenging the department if the amount in question is small. Maneet Pal Singh, Partner, I.P. Pasricha & Co, says the step acknowledges the challenges faced by taxpayers in resolving long-standing disputes. “This may enhance taxpayer confidence, reduce litigation burdens, and promote a more collaborative approach to addressing historical tax issues,” Singh reckons.While taxpayers who are yet to pay pending tax dues will benefit, there is no relief for those whose dues have already been adjusted against the refund. Also, taxpayers with pending tax demands exceeding the specified limits will not benefit.Note: “Older demands are painful because it is difficult to keep records for so long. Taxpayers, especially those with pending refunds, were facing a lot of problems.”SUDHIR KAUSHIKCEO,TAXSPANNER.COMNew housing schemeThe other good news is the announcement of a new housing scheme for the middle class. Rapid urbanisation, high property prices, insufficient affordable housing options, and a growing population have led to housing shortages. A 2022 RICSKnight Frank report states that nearly 30% of Indians live in rented homes.Though specific details are awaited, the Budget announcement promises millions of Indians the dignity of living in their own homes. It would also have a ripple effect on the economy. Says Manish Jaiswal, MD and CEO at Grihum Housing Finance (formerly Poonawalla Housing Finance): “Constructing a 500 sq ft home, costing Rs.10-12 lakh, propels informal employment and rural economic growth. The housing sector is poised to triple into a trillion-dollar economy in this decade.”This bodes well for the housing finance sector. “This initiative may also spur innovation in housing finance products, catering to the unique needs of the targeted segments grappling with challenges such as fluctuating income, low credit scores, or the absence of credit history,” says Shabala Shinde, Partner and Real Estate & REITs Industry Leader, Grant Thornton Bharat.However, given the blurred lines of what constitutes middle-class income households, the specifics of the proposed scheme should be clearly spelt out. “To ensure its success, precise eligibility requirements, transparent allocation procedures, subsidies, interest rate breaks, and down payment assistance programs are necessary,” says Anuj Puri, Chairman of the ANAROCK Group.The government’s existing credit linked subsidy scheme (CLSS) offers about Rs.2.3 lakh upfront subsidy for middle income groups over a 20-year loan period. Additionally, the government allows deductions under Section 80EE and 80EEA of the Income-tax Act for affordable housing buyers. These are over and above the deduction of Rs.2 lakh available to home buyers on the interest paid on a home loan under Section 24.Infra push continuesEarlier this year, we said that the enormous capital expenditure plans of the government and the projects lined up in the coming years are likely to benefit the infrastructure sector. The Budget reiterated the government’s focus on infrastructure development by proposing to raise capital expenditure by 11.1% to Rs.11.11 lakh crore. This is 3.4% of the GDP and is good news for the companies engaged in construction and infrastructure development.The focus will be on roads and power. Analysts say though project awarding by the NHAI has remained subdued between April and October 2023, it is expected to pick up over the next few quarters. Moderating the input prices will further provide support to the sector.Steel prices have fallen close to 25% and aluminium prices by 32% since April 2022. The margins and profitability for road construction companies are expected to improve in the second half of 2023-24 due to the decline in steel and aluminium prices, states a Motilal Oswal report.The other positivesThe Ayushman Bharat - Pradhan Mantri Jan Arogya Yojna (PMJAY) health insurance scheme will now be extended to all Accredited Social Health Activists (ASHA), anganwadi workers and helpers. The allocation for this public health insurance scheme has been increased from Rs.6,800 crore to Rs.7,500 crore in the interim Budget. The scheme aims to offer a health cover of Rs.5 lakh per family for secondary and tertiary care hospitalisation.Tourism is bound to receive a boost with the announcement of long-term interestfree loans to states for developing iconic tourist centres on a global scale. Airport development, port connectivity and improvement of tourism infrastructure on the islands, including Lakshadweep, is also on the cards in a big way.Note: “Construction of a house propels informal employment and rural economic growth. The housing sector is poised to treble in size.”MANISH JAISWAL MD & CEO, GRIHUM HOUSING FINANCE'"
      ]
     },
     "execution_count": 3,
     "metadata": {},
     "output_type": "execute_result"
    }
   ],
   "source": [
    "url = 'https://economictimes.indiatimes.com/wealth/tax/what-budget-2024-means-for-you-positive-takeaways-from-the-interim-budget/articleshow/107377274.cms?from=mdr'\n",
    "response = requests.get(url)\n",
    "\n",
    "soup = BeautifulSoup(response.text, 'html.parser')\n",
    "target_element = soup.find(class_='artText')\n",
    "text = target_element.get_text()\n",
    "text"
   ]
  },
  {
   "cell_type": "markdown",
   "id": "7a1a4654",
   "metadata": {},
   "source": [
    "## Creating function to split paragraph into sentences"
   ]
  },
  {
   "cell_type": "code",
   "execution_count": 11,
   "id": "55aafbdc",
   "metadata": {},
   "outputs": [],
   "source": [
    "import re\n",
    "alphabets= \"([A-Za-z])\"\n",
    "prefixes = \"(Mr|St|Mrs|Ms|Dr)[.]\"\n",
    "suffixes = \"(Inc|Ltd|Jr|Sr|Co)\"\n",
    "starters = \"(Mr|Mrs|Ms|Dr|Prof|Capt|Cpt|Lt|He\\s|She\\s|It\\s|They\\s|Their\\s|Our\\s|We\\s|But\\s|However\\s|That\\s|This\\s|Wherever)\"\n",
    "acronyms = \"([A-Z][.][A-Z][.](?:[A-Z][.])?)\"\n",
    "websites = \"[.](com|net|org|io|gov|edu|me)\"\n",
    "digits = \"([0-9])\"\n",
    "multiple_dots = r'\\.{2,}'\n",
    "\n",
    "def split_into_sentences(text: str) -> list[str]:\n",
    "    text = \" \" + text + \"  \"\n",
    "    text = text.replace(\"\\n\",\" \")\n",
    "    text = re.sub(prefixes,\"\\\\1<prd>\",text)\n",
    "    text = re.sub(websites,\"<prd>\\\\1\",text)\n",
    "    text = re.sub(digits + \"[.]\" + digits,\"\\\\1<prd>\\\\2\",text)\n",
    "    text = re.sub(multiple_dots, lambda match: \"<prd>\" * len(match.group(0)) + \"<stop>\", text)\n",
    "    if \"Ph.D\" in text: text = text.replace(\"Ph.D.\",\"Ph<prd>D<prd>\")\n",
    "    text = re.sub(\"\\s\" + alphabets + \"[.] \",\" \\\\1<prd> \",text)\n",
    "    text = re.sub(acronyms+\" \"+starters,\"\\\\1<stop> \\\\2\",text)\n",
    "    text = re.sub(alphabets + \"[.]\" + alphabets + \"[.]\" + alphabets + \"[.]\",\"\\\\1<prd>\\\\2<prd>\\\\3<prd>\",text)\n",
    "    text = re.sub(alphabets + \"[.]\" + alphabets + \"[.]\",\"\\\\1<prd>\\\\2<prd>\",text)\n",
    "    text = re.sub(\" \"+suffixes+\"[.] \"+starters,\" \\\\1<stop> \\\\2\",text)\n",
    "    text = re.sub(\" \"+suffixes+\"[.]\",\" \\\\1<prd>\",text)\n",
    "    text = re.sub(\" \" + alphabets + \"[.]\",\" \\\\1<prd>\",text)\n",
    "    if \"”\" in text: text = text.replace(\".”\",\"”.\")\n",
    "    if \"\\\"\" in text: text = text.replace(\".\\\"\",\"\\\".\")\n",
    "    if \"!\" in text: text = text.replace(\"!\\\"\",\"\\\"!\")\n",
    "    if \"?\" in text: text = text.replace(\"?\\\"\",\"\\\"?\")\n",
    "    text = text.replace(\".\",\".<stop>\")\n",
    "    text = text.replace(\"?\",\"?<stop>\")\n",
    "    text = text.replace(\"!\",\"!<stop>\")\n",
    "    text = text.replace(\"<prd>\",\".\")\n",
    "    sentences = text.split(\"<stop>\")\n",
    "    sentences = [s.strip() for s in sentences]\n",
    "    if sentences and not sentences[-1]: sentences = sentences[:-1]\n",
    "    return sentences"
   ]
  },
  {
   "cell_type": "code",
   "execution_count": 12,
   "id": "4c03956a",
   "metadata": {},
   "outputs": [
    {
     "data": {
      "text/plain": [
       "['No hike in basic exemption, no increase in deductions, not even a change in tax slabs– why should taxpayers feel happy about the interim Budget announced last week?',\n",
       " 'Let us enumerate the reasons.',\n",
       " 'For one, the government has extended an olive branch to taxpayers stuck with petty tax demands of previous years.',\n",
       " 'The Budget has proposed to withdraw all direct tax demands up to Rs.',\n",
       " '25,000 till the year 2009-10 and up to Rs.',\n",
       " '10,000 for the years 2010-11 to 2014-15.',\n",
       " 'The move is expected to benefit an estimated 1 crore taxpayers, who are still disputing these tax demands.',\n",
       " 'It will not only free them from the tussle with the taxman, but also pave the way for tax refunds that were held up due to pending tax demands.',\n",
       " 'Rajarshi Dasgupta, Executive Director and National Head of Tax, AQUILAW, observed, “In case of a pending tax demand, any refund in the subsequent year is not processed unless such demand is addressed.',\n",
       " 'By disposing of the demands, many refund claims will be expedited”.',\n",
       " 'The proposal comes at a time when taxpayers are getting notices from the Income-tax Department for tax demands of previous years, some of them dating back more than 15 years.',\n",
       " '“The digitalisation of old tax records has resulted in numerous individuals facing minor demands related to past years.',\n",
       " 'In most situations, even the tax department does not have the supporting documents,” says Nabin Ballodia, Partner & Leader (North), Tax & Regulatory Services, BDO India.',\n",
       " 'Note:“Digitalisation of old tax records has resulted in demands of past years.',\n",
       " 'In most cases, even the tax department does not have supporting documents”.',\n",
       " 'Investors looking for twin engines of quality and growth.',\n",
       " 'NABIN BALLODIAPARTNER & LEADER (NORTH), TAX & REGULATORY SERVICES, BDO INDIAExperts feel this relief was much needed and is aimed at improving taxpayer experience.',\n",
       " 'Sudhir Kaushik, Founder of tax filing portal TaxSpanner, says, “It is not a small relief when you see the number of affected taxpayers.',\n",
       " 'Older demands are painful because it is difficult to keep records for so long and defend.',\n",
       " 'Taxpayers, especially those with pending refunds, were facing a lot of problems”.',\n",
       " 'Instead of going through the hassles of an appeal, taxpayers often choose to pay up without challenging the department if the amount in question is small.',\n",
       " 'Maneet Pal Singh, Partner, I.P. Pasricha & Co, says the step acknowledges the challenges faced by taxpayers in resolving long-standing disputes.',\n",
       " '“This may enhance taxpayer confidence, reduce litigation burdens, and promote a more collaborative approach to addressing historical tax issues,” Singh reckons.',\n",
       " 'While taxpayers who are yet to pay pending tax dues will benefit, there is no relief for those whose dues have already been adjusted against the refund.',\n",
       " 'Also, taxpayers with pending tax demands exceeding the specified limits will not benefit.',\n",
       " 'Note: “Older demands are painful because it is difficult to keep records for so long.',\n",
       " 'Taxpayers, especially those with pending refunds, were facing a lot of problems”.',\n",
       " 'SUDHIR KAUSHIKCEO,TAXSPANNER.',\n",
       " 'COMNew housing schemeThe other good news is the announcement of a new housing scheme for the middle class.',\n",
       " 'Rapid urbanisation, high property prices, insufficient affordable housing options, and a growing population have led to housing shortages.',\n",
       " 'A 2022 RICSKnight Frank report states that nearly 30% of Indians live in rented homes.',\n",
       " 'Though specific details are awaited, the Budget announcement promises millions of Indians the dignity of living in their own homes.',\n",
       " 'It would also have a ripple effect on the economy.',\n",
       " 'Says Manish Jaiswal, MD and CEO at Grihum Housing Finance (formerly Poonawalla Housing Finance): “Constructing a 500 sq ft home, costing Rs.',\n",
       " '10-12 lakh, propels informal employment and rural economic growth.',\n",
       " 'The housing sector is poised to triple into a trillion-dollar economy in this decade”.',\n",
       " 'This bodes well for the housing finance sector.',\n",
       " '“This initiative may also spur innovation in housing finance products, catering to the unique needs of the targeted segments grappling with challenges such as fluctuating income, low credit scores, or the absence of credit history,” says Shabala Shinde, Partner and Real Estate & REITs Industry Leader, Grant Thornton Bharat.',\n",
       " 'However, given the blurred lines of what constitutes middle-class income households, the specifics of the proposed scheme should be clearly spelt out.',\n",
       " '“To ensure its success, precise eligibility requirements, transparent allocation procedures, subsidies, interest rate breaks, and down payment assistance programs are necessary,” says Anuj Puri, Chairman of the ANAROCK Group.',\n",
       " 'The government’s existing credit linked subsidy scheme (CLSS) offers about Rs.',\n",
       " '2.3 lakh upfront subsidy for middle income groups over a 20-year loan period.',\n",
       " 'Additionally, the government allows deductions under Section 80EE and 80EEA of the Income-tax Act for affordable housing buyers.',\n",
       " 'These are over and above the deduction of Rs.',\n",
       " '2 lakh available to home buyers on the interest paid on a home loan under Section 24.',\n",
       " 'Infra push continuesEarlier this year, we said that the enormous capital expenditure plans of the government and the projects lined up in the coming years are likely to benefit the infrastructure sector.',\n",
       " 'The Budget reiterated the government’s focus on infrastructure development by proposing to raise capital expenditure by 11.1% to Rs.',\n",
       " '11.11 lakh crore.',\n",
       " 'This is 3.4% of the GDP and is good news for the companies engaged in construction and infrastructure development.',\n",
       " 'The focus will be on roads and power.',\n",
       " 'Analysts say though project awarding by the NHAI has remained subdued between April and October 2023, it is expected to pick up over the next few quarters.',\n",
       " 'Moderating the input prices will further provide support to the sector.',\n",
       " 'Steel prices have fallen close to 25% and aluminium prices by 32% since April 2022.',\n",
       " 'The margins and profitability for road construction companies are expected to improve in the second half of 2023-24 due to the decline in steel and aluminium prices, states a Motilal Oswal report.',\n",
       " 'The other positivesThe Ayushman Bharat - Pradhan Mantri Jan Arogya Yojna (PMJAY) health insurance scheme will now be extended to all Accredited Social Health Activists (ASHA), anganwadi workers and helpers.',\n",
       " 'The allocation for this public health insurance scheme has been increased from Rs.',\n",
       " '6,800 crore to Rs.',\n",
       " '7,500 crore in the interim Budget.',\n",
       " 'The scheme aims to offer a health cover of Rs.',\n",
       " '5 lakh per family for secondary and tertiary care hospitalisation.',\n",
       " 'Tourism is bound to receive a boost with the announcement of long-term interestfree loans to states for developing iconic tourist centres on a global scale.',\n",
       " 'Airport development, port connectivity and improvement of tourism infrastructure on the islands, including Lakshadweep, is also on the cards in a big way.',\n",
       " 'Note: “Construction of a house propels informal employment and rural economic growth.',\n",
       " 'The housing sector is poised to treble in size”.',\n",
       " 'MANISH JAISWAL MD & CEO, GRIHUM HOUSING FINANCE']"
      ]
     },
     "execution_count": 12,
     "metadata": {},
     "output_type": "execute_result"
    }
   ],
   "source": [
    "text_to_analysis = split_into_sentences(text)\n",
    "text_to_analysis"
   ]
  },
  {
   "cell_type": "markdown",
   "id": "7008d968",
   "metadata": {},
   "source": [
    "<br>\n",
    "<br>\n",
    "\n",
    "# Applying the Sentiment Analysis model\n",
    "\n",
    "We have stored the sentences inside `text_to_analysis` and now we have to apply it to the model"
   ]
  },
  {
   "cell_type": "code",
   "execution_count": 13,
   "id": "978a69b3",
   "metadata": {},
   "outputs": [],
   "source": [
    "tokenized_texts2 = tokenizer(text_to_analysis,truncation=True,padding=True)\n",
    "pred_dataset2 = SimpleDataset(tokenized_texts2)"
   ]
  },
  {
   "cell_type": "code",
   "execution_count": 14,
   "id": "92450d54",
   "metadata": {},
   "outputs": [
    {
     "data": {
      "text/html": [],
      "text/plain": [
       "<IPython.core.display.HTML object>"
      ]
     },
     "metadata": {},
     "output_type": "display_data"
    }
   ],
   "source": [
    "predictions2 = trainer.predict(pred_dataset2)"
   ]
  },
  {
   "cell_type": "code",
   "execution_count": 15,
   "id": "cb73f1eb",
   "metadata": {},
   "outputs": [],
   "source": [
    "preds2 = predictions2.predictions.argmax(-1)\n",
    "labels2 = pd.Series(preds2).map(model.config.id2label)\n",
    "scores2 = (np.exp(predictions2[0])/np.exp(predictions2[0]).sum(-1,keepdims=True)).max(1)"
   ]
  },
  {
   "cell_type": "code",
   "execution_count": 16,
   "id": "2171dc7c",
   "metadata": {},
   "outputs": [
    {
     "data": {
      "text/html": [
       "<div>\n",
       "<style scoped>\n",
       "    .dataframe tbody tr th:only-of-type {\n",
       "        vertical-align: middle;\n",
       "    }\n",
       "\n",
       "    .dataframe tbody tr th {\n",
       "        vertical-align: top;\n",
       "    }\n",
       "\n",
       "    .dataframe thead th {\n",
       "        text-align: right;\n",
       "    }\n",
       "</style>\n",
       "<table border=\"1\" class=\"dataframe\">\n",
       "  <thead>\n",
       "    <tr style=\"text-align: right;\">\n",
       "      <th></th>\n",
       "      <th>text</th>\n",
       "      <th>pred</th>\n",
       "      <th>label</th>\n",
       "      <th>score</th>\n",
       "    </tr>\n",
       "  </thead>\n",
       "  <tbody>\n",
       "    <tr>\n",
       "      <th>0</th>\n",
       "      <td>No hike in basic exemption, no increase in ded...</td>\n",
       "      <td>0</td>\n",
       "      <td>NEGATIVE</td>\n",
       "      <td>0.999479</td>\n",
       "    </tr>\n",
       "    <tr>\n",
       "      <th>1</th>\n",
       "      <td>Let us enumerate the reasons.</td>\n",
       "      <td>1</td>\n",
       "      <td>POSITIVE</td>\n",
       "      <td>0.987988</td>\n",
       "    </tr>\n",
       "    <tr>\n",
       "      <th>2</th>\n",
       "      <td>For one, the government has extended an olive ...</td>\n",
       "      <td>1</td>\n",
       "      <td>POSITIVE</td>\n",
       "      <td>0.997046</td>\n",
       "    </tr>\n",
       "    <tr>\n",
       "      <th>3</th>\n",
       "      <td>The Budget has proposed to withdraw all direct...</td>\n",
       "      <td>1</td>\n",
       "      <td>POSITIVE</td>\n",
       "      <td>0.996651</td>\n",
       "    </tr>\n",
       "    <tr>\n",
       "      <th>4</th>\n",
       "      <td>25,000 till the year 2009-10 and up to Rs.</td>\n",
       "      <td>1</td>\n",
       "      <td>POSITIVE</td>\n",
       "      <td>0.994477</td>\n",
       "    </tr>\n",
       "    <tr>\n",
       "      <th>5</th>\n",
       "      <td>10,000 for the years 2010-11 to 2014-15.</td>\n",
       "      <td>1</td>\n",
       "      <td>POSITIVE</td>\n",
       "      <td>0.996461</td>\n",
       "    </tr>\n",
       "    <tr>\n",
       "      <th>6</th>\n",
       "      <td>The move is expected to benefit an estimated 1...</td>\n",
       "      <td>1</td>\n",
       "      <td>POSITIVE</td>\n",
       "      <td>0.994475</td>\n",
       "    </tr>\n",
       "    <tr>\n",
       "      <th>7</th>\n",
       "      <td>It will not only free them from the tussle wit...</td>\n",
       "      <td>1</td>\n",
       "      <td>POSITIVE</td>\n",
       "      <td>0.998824</td>\n",
       "    </tr>\n",
       "    <tr>\n",
       "      <th>8</th>\n",
       "      <td>Rajarshi Dasgupta, Executive Director and Nati...</td>\n",
       "      <td>0</td>\n",
       "      <td>NEGATIVE</td>\n",
       "      <td>0.977914</td>\n",
       "    </tr>\n",
       "    <tr>\n",
       "      <th>9</th>\n",
       "      <td>By disposing of the demands, many refund claim...</td>\n",
       "      <td>1</td>\n",
       "      <td>POSITIVE</td>\n",
       "      <td>0.988670</td>\n",
       "    </tr>\n",
       "  </tbody>\n",
       "</table>\n",
       "</div>"
      ],
      "text/plain": [
       "                                                text  pred     label     score\n",
       "0  No hike in basic exemption, no increase in ded...     0  NEGATIVE  0.999479\n",
       "1                      Let us enumerate the reasons.     1  POSITIVE  0.987988\n",
       "2  For one, the government has extended an olive ...     1  POSITIVE  0.997046\n",
       "3  The Budget has proposed to withdraw all direct...     1  POSITIVE  0.996651\n",
       "4         25,000 till the year 2009-10 and up to Rs.     1  POSITIVE  0.994477\n",
       "5           10,000 for the years 2010-11 to 2014-15.     1  POSITIVE  0.996461\n",
       "6  The move is expected to benefit an estimated 1...     1  POSITIVE  0.994475\n",
       "7  It will not only free them from the tussle wit...     1  POSITIVE  0.998824\n",
       "8  Rajarshi Dasgupta, Executive Director and Nati...     0  NEGATIVE  0.977914\n",
       "9  By disposing of the demands, many refund claim...     1  POSITIVE  0.988670"
      ]
     },
     "execution_count": 16,
     "metadata": {},
     "output_type": "execute_result"
    }
   ],
   "source": [
    "df = pd.DataFrame(list(zip(text_to_analysis,preds2,labels2,scores2)), columns=['text','pred','label','score'])\n",
    "df.head(10)"
   ]
  },
  {
   "cell_type": "markdown",
   "id": "9a0fcd94",
   "metadata": {},
   "source": [
    "### Saving the dataframe for future use"
   ]
  },
  {
   "cell_type": "code",
   "execution_count": 17,
   "id": "4704f29c",
   "metadata": {},
   "outputs": [],
   "source": [
    "df.to_csv('model1_analysis.csv')"
   ]
  },
  {
   "cell_type": "markdown",
   "id": "e04aa976",
   "metadata": {},
   "source": [
    "<br><br>\n",
    "\n",
    "# Overall Sentiment of the Site\n",
    "\n",
    "As we have analyzed our data , and sentiment is analyzed we now have to see the entire site's sentiment towards the budget-24 .\n"
   ]
  },
  {
   "cell_type": "markdown",
   "id": "c2380944",
   "metadata": {},
   "source": [
    "### Count the number of total sentiment "
   ]
  },
  {
   "cell_type": "code",
   "execution_count": 18,
   "id": "be10b552",
   "metadata": {},
   "outputs": [
    {
     "data": {
      "text/plain": [
       "label\n",
       "POSITIVE    44\n",
       "NEGATIVE    21\n",
       "Name: count, dtype: int64"
      ]
     },
     "execution_count": 18,
     "metadata": {},
     "output_type": "execute_result"
    }
   ],
   "source": [
    "sentiment_counts = df['label'].value_counts()\n",
    "sentiment_counts"
   ]
  },
  {
   "cell_type": "markdown",
   "id": "be8f72ee",
   "metadata": {},
   "source": [
    "### Plotting a graph of sentiments "
   ]
  },
  {
   "cell_type": "code",
   "execution_count": 19,
   "id": "5067be8f",
   "metadata": {},
   "outputs": [],
   "source": [
    "import matplotlib.pyplot as plt"
   ]
  },
  {
   "cell_type": "code",
   "execution_count": 20,
   "id": "5a409a7f",
   "metadata": {},
   "outputs": [
    {
     "data": {
      "image/png": "[encoded data removed]",
      "text/plain": [
       "<Figure size 640x480 with 1 Axes>"
      ]
     },
     "metadata": {},
     "output_type": "display_data"
    }
   ],
   "source": [
    "sentiment_counts.plot(kind='bar', color=['green', 'red', 'blue'])\n",
    "\n",
    "plt.xlabel('Sentiment')\n",
    "plt.ylabel('Count')\n",
    "plt.title(\"Sentiment Analysis of The Economic Time's coverage towards Budget-24\")\n",
    "plt.show()"
   ]
  },
  {
   "cell_type": "markdown",
   "id": "b032fa86",
   "metadata": {},
   "source": [
    "# Sentiment Analysis of The Economic Time's Coverage towards Budget-24\n",
    "\n",
    "## Takeaways:\n",
    "\n",
    "- The sentiment analysis of The Economic Times' coverage towards Budget-24 reveals a predominance of positive sentiment carrying sentences.\n",
    "- Approximately 40+ sentences were identified as positive sentiments, indicating a generally favorable stance towards the budget.\n",
    "- On the other hand, around 20 sentences were classified as carrying negative sentiment, suggesting some areas of concern or criticism within the coverage.\n",
    "\n",
    "## Outcomes:\n",
    "\n",
    "- The **overwhelmingly positive sentiment observed** in The Economic Times' coverage towards Budget-24 may indicate a general approval or support for the budgetary measures proposed.\n",
    "- The presence of negative sentiment carrying sentences highlights areas of potential criticism or concern that may need further attention or clarification.\n",
    "- Understanding the distribution of sentiment within the coverage can provide valuable insights into the overall reception and impact of Budget-24 as perceived by The Economic Times' readership.\n"
   ]
  },
  {
   "cell_type": "code",
   "execution_count": null,
   "id": "22a2b371",
   "metadata": {},
   "outputs": [],
   "source": []
  }
 ],
 "metadata": {
  "kernelspec": {
   "display_name": "Python 3 (ipykernel)",
   "language": "python",
   "name": "python3"
  },
  "language_info": {
   "codemirror_mode": {
    "name": "ipython",
    "version": 3
   },
   "file_extension": ".py",
   "mimetype": "text/x-python",
   "name": "python",
   "nbconvert_exporter": "python",
   "pygments_lexer": "ipython3",
   "version": "3.11.5"
  }
 },
 "nbformat": 4,
 "nbformat_minor": 5
}

{
 "cells": [
  {
   "cell_type": "markdown",
   "id": "dc950a0a",
   "metadata": {},
   "source": [
    "# Sentiment Analysis of Budget-24 according to Website\n",
    "\n",
    "Here we will analyse [livemint coverage](https://www.livemint.com/economy/budget-2024-25-key-highlights-live-updates-interim-budget-agriculture-infra-fiscal-deficit-nirmala-sitharaman-11706695416199.html) on Budget 24 using [lxyuan/distilbert-base-multilingual-cased-sentiments-student](https://huggingface.co/lxyuan/distilbert-base-multilingual-cased-sentiments-student) ML model from Hugging Face ."
   ]
  },
  {
   "cell_type": "code",
   "execution_count": 1,
   "id": "882c8da9",
   "metadata": {},
   "outputs": [],
   "source": [
    "from transformers import pipeline"
   ]
  },
  {
   "cell_type": "markdown",
   "id": "c0af1e00",
   "metadata": {},
   "source": [
    "## Import  ML model"
   ]
  },
  {
   "cell_type": "code",
   "execution_count": 3,
   "id": "80088aaa",
   "metadata": {},
   "outputs": [],
   "source": [
    "distilled_student_sentiment_classifier = pipeline(\n",
    "    model=\"lxyuan/distilbert-base-multilingual-cased-sentiments-student\", \n",
    "    return_all_scores=True\n",
    ")"
   ]
  },
  {
   "cell_type": "markdown",
   "id": "ab03b73d",
   "metadata": {},
   "source": [
    "C:\\Users\\KIIT\\anaconda3\\Lib\\site-packages\\transformers\\pipelines\\text_classification.py:104: UserWarning: `return_all_scores` is now deprecated,  if want a similar funcionality use `top_k=None` instead of `return_all_scores=True` or `top_k=1` instead of `return_all_scores=False`.\n",
    "  warnings.warn("
   ]
  },
  {
   "cell_type": "markdown",
   "id": "4383af72",
   "metadata": {},
   "source": [
    "### Test the model"
   ]
  },
  {
   "cell_type": "code",
   "execution_count": 23,
   "id": "9df6a1dd",
   "metadata": {},
   "outputs": [
    {
     "data": {
      "text/plain": [
       "[{'label': 'positive', 'score': 0.6547248363494873},\n",
       " {'label': 'neutral', 'score': 0.18753547966480255},\n",
       " {'label': 'negative', 'score': 0.15773969888687134}]"
      ]
     },
     "execution_count": 23,
     "metadata": {},
     "output_type": "execute_result"
    }
   ],
   "source": [
    "distilled_student_sentiment_classifier (\"I like the movie.\")[0]"
   ]
  },
  {
   "cell_type": "code",
   "execution_count": 25,
   "id": "be4b87c3",
   "metadata": {},
   "outputs": [
    {
     "data": {
      "text/plain": [
       "'Budget 2024 Key Highlights LIVE Updates: Union Finance Minister Nirmala Sitharaman presented her sixth Budget on February 1. This was an interim budget ahead of the general elections later this year. The Interim Budget 2024 was focused on youth and women empowerment, while maintaining fiscal consolidation and continuing capex. FM Sitharaman lowered down FY25 fiscal deficit target to 5.1% of the GDP. There were no changes made to the direct tax and indirect tax rates. Read the latest news on\\xa0Budget 2024 with our live coverage on the\\xa0Income Tax Slab,\\xa0Impact on Share Market, Budget Key Highlights, Corporate Reactions, and\\xa0Funny Memes.10 key takeaways from FM Sitharaman’s post-budget presser1] Finance Minister Nirmala Sitharaman stressed on 5 ‘Disha Nirdashak’ baatein: Social justice as an effective governance model; Focus on the poor, youth, women, and the Annadata (farmers); Focus on infrastructure; Use of technology to improve productivity and High power committee for challenges arising from demographic challenges.2] India has had three consecutive years of 7% GDP growth and is the fastest growing economy in G20.3] GDP is Government, Development and Performance. We have delivered on Development and have better managed the economy. We are bringing down the fiscal deficit despite very challenging times.4] Capex from the government will continue, it is important to continue it, FM said.5] India, Middle East, European Corridor (IMEC) project to be taken forward despite disturbances in Red Sea.6] The withdrawal of 1.1 crore outstanding small direct tax demands for certain years will cost less than ₹3,500 crore to the exchequer, said Revenue Secretary Sanjay Malhotra.7] No extension of lower tax rate to new manufacturing units coming into place after March 2024, FM clarified.8] Do not have a fixed target for disinvestment in FY25, said DIPAM Secretary Tuhin Kanta Pandey.9] We are not only aligning with the fiscal consolidation path given earlier, but we are also bettering it, Finance Minister Nirmala Sitharaman said in her message to credit rating agencies10] The relevance of the target to reduce the Centre’s debt-to-GDP ratio to 40% was set before COVID-19 period and now has to be examined, Finance Secretary TV Somanathan said.'"
      ]
     },
     "execution_count": 25,
     "metadata": {},
     "output_type": "execute_result"
    }
   ],
   "source": [
    "import requests\n",
    "from bs4 import BeautifulSoup\n",
    "\n",
    "url = 'https://www.livemint.com/economy/budget-2024-25-key-highlights-live-updates-interim-budget-agriculture-infra-fiscal-deficit-nirmala-sitharaman-11706695416199.html'\n",
    "response = requests.get(url)\n",
    "soup = BeautifulSoup(response.content, 'html.parser')\n",
    "live_sec_intro = soup.find(class_='liveSecIntro')\n",
    "web_text = None\n",
    "if live_sec_intro:\n",
    "    web_text = live_sec_intro.get_text().strip()\n",
    "\n",
    "web_text\n"
   ]
  },
  {
   "cell_type": "markdown",
   "id": "93c6bbd4",
   "metadata": {},
   "source": [
    "## Defining function to extract sentences"
   ]
  },
  {
   "cell_type": "code",
   "execution_count": 27,
   "id": "451bd9cf",
   "metadata": {},
   "outputs": [],
   "source": [
    "import re\n",
    "\n",
    "def get_sentences(paragraph):\n",
    "    sentences = re.split(r'(?<!\\w\\.\\w.)(?<![A-Z][a-z]\\.)(?<=\\.|\\?)\\s', paragraph)\n",
    "    return sentences"
   ]
  },
  {
   "cell_type": "code",
   "execution_count": 28,
   "id": "45a201ba",
   "metadata": {},
   "outputs": [
    {
     "data": {
      "text/plain": [
       "['Budget 2024 Key Highlights LIVE Updates: Union Finance Minister Nirmala Sitharaman presented her sixth Budget on February 1.',\n",
       " 'This was an interim budget ahead of the general elections later this year.',\n",
       " 'The Interim Budget 2024 was focused on youth and women empowerment, while maintaining fiscal consolidation and continuing capex.',\n",
       " 'FM Sitharaman lowered down FY25 fiscal deficit target to 5.1% of the GDP.',\n",
       " 'There were no changes made to the direct tax and indirect tax rates.',\n",
       " 'Read the latest news on\\xa0Budget 2024 with our live coverage on the\\xa0Income Tax Slab,\\xa0Impact on Share Market, Budget Key Highlights, Corporate Reactions, and\\xa0Funny Memes.10 key takeaways from FM Sitharaman’s post-budget presser1] Finance Minister Nirmala Sitharaman stressed on 5 ‘Disha Nirdashak’ baatein: Social justice as an effective governance model; Focus on the poor, youth, women, and the Annadata (farmers); Focus on infrastructure; Use of technology to improve productivity and High power committee for challenges arising from demographic challenges.2] India has had three consecutive years of 7% GDP growth and is the fastest growing economy in G20.3] GDP is Government, Development and Performance.',\n",
       " 'We have delivered on Development and have better managed the economy.',\n",
       " 'We are bringing down the fiscal deficit despite very challenging times.4] Capex from the government will continue, it is important to continue it, FM said.5] India, Middle East, European Corridor (IMEC) project to be taken forward despite disturbances in Red Sea.6] The withdrawal of 1.1 crore outstanding small direct tax demands for certain years will cost less than ₹3,500 crore to the exchequer, said Revenue Secretary Sanjay Malhotra.7] No extension of lower tax rate to new manufacturing units coming into place after March 2024, FM clarified.8] Do not have a fixed target for disinvestment in FY25, said DIPAM Secretary Tuhin Kanta Pandey.9] We are not only aligning with the fiscal consolidation path given earlier, but we are also bettering it, Finance Minister Nirmala Sitharaman said in her message to credit rating agencies10] The relevance of the target to reduce the Centre’s debt-to-GDP ratio to 40% was set before COVID-19 period and now has to be examined, Finance Secretary TV Somanathan said.']"
      ]
     },
     "execution_count": 28,
     "metadata": {},
     "output_type": "execute_result"
    }
   ],
   "source": [
    "sentences = get_sentences(web_text)\n",
    "sentences"
   ]
  },
  {
   "cell_type": "markdown",
   "id": "a7b38220",
   "metadata": {},
   "source": [
    "# Applying model to get the sentiment of each sentences"
   ]
  },
  {
   "cell_type": "code",
   "execution_count": 35,
   "id": "da83f4f0",
   "metadata": {},
   "outputs": [
    {
     "data": {
      "text/plain": [
       "[[{'label': 'positive', 'score': 0.569232165813446},\n",
       "  {'label': 'neutral', 'score': 0.20299331843852997},\n",
       "  {'label': 'negative', 'score': 0.22777454555034637}],\n",
       " [{'label': 'positive', 'score': 0.4114557206630707},\n",
       "  {'label': 'neutral', 'score': 0.2773597836494446},\n",
       "  {'label': 'negative', 'score': 0.31118446588516235}],\n",
       " [{'label': 'positive', 'score': 0.6323974132537842},\n",
       "  {'label': 'neutral', 'score': 0.16273921728134155},\n",
       "  {'label': 'negative', 'score': 0.20486336946487427}],\n",
       " [{'label': 'positive', 'score': 0.4068266749382019},\n",
       "  {'label': 'neutral', 'score': 0.17968685925006866},\n",
       "  {'label': 'negative', 'score': 0.4134864807128906}],\n",
       " [{'label': 'positive', 'score': 0.19538149237632751},\n",
       "  {'label': 'neutral', 'score': 0.7039102911949158},\n",
       "  {'label': 'negative', 'score': 0.10070820152759552}],\n",
       " [{'label': 'positive', 'score': 0.589194118976593},\n",
       "  {'label': 'neutral', 'score': 0.12298103421926498},\n",
       "  {'label': 'negative', 'score': 0.287824809551239}],\n",
       " [{'label': 'positive', 'score': 0.7380688786506653},\n",
       "  {'label': 'neutral', 'score': 0.12688711285591125},\n",
       "  {'label': 'negative', 'score': 0.13504402339458466}],\n",
       " [{'label': 'positive', 'score': 0.26050040125846863},\n",
       "  {'label': 'neutral', 'score': 0.21563537418842316},\n",
       "  {'label': 'negative', 'score': 0.523864209651947}]]"
      ]
     },
     "execution_count": 35,
     "metadata": {},
     "output_type": "execute_result"
    }
   ],
   "source": [
    "sentiment = distilled_student_sentiment_classifier(sentences)\n",
    "sentiment"
   ]
  },
  {
   "cell_type": "markdown",
   "id": "38e57de7",
   "metadata": {},
   "source": [
    "## Storing the data in pandas"
   ]
  },
  {
   "cell_type": "code",
   "execution_count": 36,
   "id": "1a2a8efd",
   "metadata": {},
   "outputs": [],
   "source": [
    "import pandas as pd"
   ]
  },
  {
   "cell_type": "code",
   "execution_count": 38,
   "id": "20cf7470",
   "metadata": {},
   "outputs": [
    {
     "data": {
      "text/html": [
       "<div>\n",
       "<style scoped>\n",
       "    .dataframe tbody tr th:only-of-type {\n",
       "        vertical-align: middle;\n",
       "    }\n",
       "\n",
       "    .dataframe tbody tr th {\n",
       "        vertical-align: top;\n",
       "    }\n",
       "\n",
       "    .dataframe thead th {\n",
       "        text-align: right;\n",
       "    }\n",
       "</style>\n",
       "<table border=\"1\" class=\"dataframe\">\n",
       "  <thead>\n",
       "    <tr style=\"text-align: right;\">\n",
       "      <th></th>\n",
       "      <th>Sentence</th>\n",
       "      <th>Positive Score</th>\n",
       "      <th>Neutral Score</th>\n",
       "      <th>Negative Score</th>\n",
       "    </tr>\n",
       "  </thead>\n",
       "  <tbody>\n",
       "    <tr>\n",
       "      <th>0</th>\n",
       "      <td>Budget 2024 Key Highlights LIVE Updates: Union...</td>\n",
       "      <td>0.569232</td>\n",
       "      <td>0.202993</td>\n",
       "      <td>0.227775</td>\n",
       "    </tr>\n",
       "    <tr>\n",
       "      <th>1</th>\n",
       "      <td>This was an interim budget ahead of the genera...</td>\n",
       "      <td>0.411456</td>\n",
       "      <td>0.277360</td>\n",
       "      <td>0.311184</td>\n",
       "    </tr>\n",
       "    <tr>\n",
       "      <th>2</th>\n",
       "      <td>The Interim Budget 2024 was focused on youth a...</td>\n",
       "      <td>0.632397</td>\n",
       "      <td>0.162739</td>\n",
       "      <td>0.204863</td>\n",
       "    </tr>\n",
       "    <tr>\n",
       "      <th>3</th>\n",
       "      <td>FM Sitharaman lowered down FY25 fiscal deficit...</td>\n",
       "      <td>0.406827</td>\n",
       "      <td>0.179687</td>\n",
       "      <td>0.413486</td>\n",
       "    </tr>\n",
       "    <tr>\n",
       "      <th>4</th>\n",
       "      <td>There were no changes made to the direct tax a...</td>\n",
       "      <td>0.195381</td>\n",
       "      <td>0.703910</td>\n",
       "      <td>0.100708</td>\n",
       "    </tr>\n",
       "    <tr>\n",
       "      <th>5</th>\n",
       "      <td>Read the latest news on Budget 2024 with our l...</td>\n",
       "      <td>0.589194</td>\n",
       "      <td>0.122981</td>\n",
       "      <td>0.287825</td>\n",
       "    </tr>\n",
       "    <tr>\n",
       "      <th>6</th>\n",
       "      <td>We have delivered on Development and have bett...</td>\n",
       "      <td>0.738069</td>\n",
       "      <td>0.126887</td>\n",
       "      <td>0.135044</td>\n",
       "    </tr>\n",
       "    <tr>\n",
       "      <th>7</th>\n",
       "      <td>We are bringing down the fiscal deficit despit...</td>\n",
       "      <td>0.260500</td>\n",
       "      <td>0.215635</td>\n",
       "      <td>0.523864</td>\n",
       "    </tr>\n",
       "  </tbody>\n",
       "</table>\n",
       "</div>"
      ],
      "text/plain": [
       "                                            Sentence  Positive Score  \\\n",
       "0  Budget 2024 Key Highlights LIVE Updates: Union...        0.569232   \n",
       "1  This was an interim budget ahead of the genera...        0.411456   \n",
       "2  The Interim Budget 2024 was focused on youth a...        0.632397   \n",
       "3  FM Sitharaman lowered down FY25 fiscal deficit...        0.406827   \n",
       "4  There were no changes made to the direct tax a...        0.195381   \n",
       "5  Read the latest news on Budget 2024 with our l...        0.589194   \n",
       "6  We have delivered on Development and have bett...        0.738069   \n",
       "7  We are bringing down the fiscal deficit despit...        0.260500   \n",
       "\n",
       "   Neutral Score  Negative Score  \n",
       "0       0.202993        0.227775  \n",
       "1       0.277360        0.311184  \n",
       "2       0.162739        0.204863  \n",
       "3       0.179687        0.413486  \n",
       "4       0.703910        0.100708  \n",
       "5       0.122981        0.287825  \n",
       "6       0.126887        0.135044  \n",
       "7       0.215635        0.523864  "
      ]
     },
     "execution_count": 38,
     "metadata": {},
     "output_type": "execute_result"
    }
   ],
   "source": [
    "df = pd.DataFrame(columns=['Sentence', 'Positive Score', 'Neutral Score', 'Negative Score'])\n",
    "\n",
    "for idx, sentence_result in enumerate(sentiment):\n",
    "    positive_score = sentence_result[0]['score']\n",
    "    neutral_score = sentence_result[1]['score']\n",
    "    negative_score = sentence_result[2]['score']\n",
    "    \n",
    "    df.loc[idx] = [sentences[idx], positive_score, neutral_score, negative_score]\n",
    "\n",
    "df"
   ]
  },
  {
   "cell_type": "markdown",
   "id": "66bd7829",
   "metadata": {},
   "source": [
    "### Getting the overall Sentiment"
   ]
  },
  {
   "cell_type": "code",
   "execution_count": 40,
   "id": "6dc5474a",
   "metadata": {},
   "outputs": [
    {
     "data": {
      "text/plain": [
       "(0.41685132877054537, 0.20085706779817966, 0.3822915863923051)"
      ]
     },
     "execution_count": 40,
     "metadata": {},
     "output_type": "execute_result"
    }
   ],
   "source": [
    "overall_positive = (df['Positive Score'] * df['Sentence'].apply(lambda x: len(x.split()))).sum() / df['Sentence'].apply(lambda x: len(x.split())).sum()\n",
    "overall_neutral = (df['Neutral Score'] * df['Sentence'].apply(lambda x: len(x.split()))).sum() / df['Sentence'].apply(lambda x: len(x.split())).sum()\n",
    "overall_negative = (df['Negative Score'] * df['Sentence'].apply(lambda x: len(x.split()))).sum() / df['Sentence'].apply(lambda x: len(x.split())).sum()\n",
    "\n",
    "overall_positive , overall_neutral , overall_negative"
   ]
  },
  {
   "cell_type": "code",
   "execution_count": 41,
   "id": "1bba6ed6",
   "metadata": {},
   "outputs": [],
   "source": [
    "import matplotlib.pyplot as plt"
   ]
  },
  {
   "cell_type": "code",
   "execution_count": 42,
   "id": "f43170dd",
   "metadata": {},
   "outputs": [
    {
     "data": {
      "image/png": "[encoded data removed]",
      "text/plain": [
       "<Figure size 640x480 with 1 Axes>"
      ]
     },
     "metadata": {},
     "output_type": "display_data"
    }
   ],
   "source": [
    "labels = ['Positive', 'Neutral', 'Negative']\n",
    "scores = [overall_positive, overall_neutral, overall_negative]\n",
    "\n",
    "plt.bar(labels, scores, color=['green', 'orange', 'red'])\n",
    "plt.xlabel('Sentiment')\n",
    "plt.ylabel('Weighted Average Score')\n",
    "plt.title('Overall Sentiment Analysis')\n",
    "plt.show()\n"
   ]
  },
  {
   "cell_type": "markdown",
   "id": "a2befe5d",
   "metadata": {},
   "source": [
    "# Conclusion of the study \n",
    "<br>\n",
    "<hr>\n",
    "\n",
    "Based on the sentiment analysis results, it can be concluded that the overall sentiment of the analyzed text leans slightly towards positive, with a weighted average score of approximately 0.417 for positive sentiment. Neutral sentiment also plays a significant role, with a weighted average score of around 0.201. However, negative sentiment is also notable, with a weighted average score of approximately 0.382.\n",
    "\n",
    "Overall, while there is a predominant presence of positive sentiment in the text, it is important to acknowledge the existence of neutral and negative sentiments as well. This suggests that the analyzed text contains a diverse range of sentiments, with positive sentiments being slightly more prevalent than the others."
   ]
  },
  {
   "cell_type": "code",
   "execution_count": null,
   "id": "b68c2598",
   "metadata": {},
   "outputs": [],
   "source": []
  }
 ],
 "metadata": {
  "kernelspec": {
   "display_name": "Python 3 (ipykernel)",
   "language": "python",
   "name": "python3"
  },
  "language_info": {
   "codemirror_mode": {
    "name": "ipython",
    "version": 3
   },
   "file_extension": ".py",
   "mimetype": "text/x-python",
   "name": "python",
   "nbconvert_exporter": "python",
   "pygments_lexer": "ipython3",
   "version": "3.11.5"
  }
 },
 "nbformat": 4,
 "nbformat_minor": 5
}

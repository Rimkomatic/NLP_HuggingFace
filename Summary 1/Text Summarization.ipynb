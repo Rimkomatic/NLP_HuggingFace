{
 "cells": [
  {
   "cell_type": "markdown",
   "id": "81b916a6",
   "metadata": {},
   "source": [
    "# Text Summarisation\n",
    "\n",
    "<br><br>\n",
    "\n",
    "We will apply text summarisation here using [this](https://huggingface.co/Falconsai/text_summarization) model from hugging face."
   ]
  },
  {
   "cell_type": "markdown",
   "id": "6cdace2e",
   "metadata": {},
   "source": [
    "## Importing the model"
   ]
  },
  {
   "cell_type": "code",
   "execution_count": 1,
   "id": "55d7a1ff",
   "metadata": {},
   "outputs": [
    {
     "data": {
      "application/vnd.jupyter.widget-view+json": {
       "model_id": "3bb3bcca048446228a1c68c04d4fb400",
       "version_major": 2,
       "version_minor": 0
      },
      "text/plain": [
       "Downloading config.json:   0%|          | 0.00/1.49k [00:00<?, ?B/s]"
      ]
     },
     "metadata": {},
     "output_type": "display_data"
    },
    {
     "name": "stderr",
     "output_type": "stream",
     "text": [
      "C:\\Users\\KIIT\\anaconda3\\Lib\\site-packages\\huggingface_hub\\file_download.py:133: UserWarning: `huggingface_hub` cache-system uses symlinks by default to efficiently store duplicated files but your machine does not support them in C:\\Users\\KIIT\\.cache\\huggingface\\hub. Caching files will still work but in a degraded version that might require more space on your disk. This warning can be disabled by setting the `HF_HUB_DISABLE_SYMLINKS_WARNING` environment variable. For more details, see https://huggingface.co/docs/huggingface_hub/how-to-cache#limitations.\n",
      "To support symlinks on Windows, you either need to activate Developer Mode or to run Python as an administrator. In order to see activate developer mode, see this article: https://docs.microsoft.com/en-us/windows/apps/get-started/enable-your-device-for-development\n",
      "  warnings.warn(message)\n"
     ]
    },
    {
     "data": {
      "application/vnd.jupyter.widget-view+json": {
       "model_id": "27f4df436b2e466991d69cbcf83d9310",
       "version_major": 2,
       "version_minor": 0
      },
      "text/plain": [
       "Downloading model.safetensors:   0%|          | 0.00/242M [00:00<?, ?B/s]"
      ]
     },
     "metadata": {},
     "output_type": "display_data"
    },
    {
     "data": {
      "application/vnd.jupyter.widget-view+json": {
       "model_id": "f592c87d4890420dbd84c1491b21d93e",
       "version_major": 2,
       "version_minor": 0
      },
      "text/plain": [
       "Downloading generation_config.json:   0%|          | 0.00/112 [00:00<?, ?B/s]"
      ]
     },
     "metadata": {},
     "output_type": "display_data"
    },
    {
     "data": {
      "application/vnd.jupyter.widget-view+json": {
       "model_id": "0d67b2a72c9842ba95d4f781a4065956",
       "version_major": 2,
       "version_minor": 0
      },
      "text/plain": [
       "Downloading tokenizer_config.json:   0%|          | 0.00/2.32k [00:00<?, ?B/s]"
      ]
     },
     "metadata": {},
     "output_type": "display_data"
    },
    {
     "data": {
      "application/vnd.jupyter.widget-view+json": {
       "model_id": "7e577b9b0a3740d0bef28fabec09e4ad",
       "version_major": 2,
       "version_minor": 0
      },
      "text/plain": [
       "Downloading spiece.model:   0%|          | 0.00/792k [00:00<?, ?B/s]"
      ]
     },
     "metadata": {},
     "output_type": "display_data"
    },
    {
     "data": {
      "application/vnd.jupyter.widget-view+json": {
       "model_id": "b8f138f25bfc492e951f493b78ec4322",
       "version_major": 2,
       "version_minor": 0
      },
      "text/plain": [
       "Downloading tokenizer.json:   0%|          | 0.00/2.42M [00:00<?, ?B/s]"
      ]
     },
     "metadata": {},
     "output_type": "display_data"
    },
    {
     "data": {
      "application/vnd.jupyter.widget-view+json": {
       "model_id": "2fc414ddce144df5b9008c6746b38225",
       "version_major": 2,
       "version_minor": 0
      },
      "text/plain": [
       "Downloading (…)cial_tokens_map.json:   0%|          | 0.00/2.20k [00:00<?, ?B/s]"
      ]
     },
     "metadata": {},
     "output_type": "display_data"
    }
   ],
   "source": [
    "from transformers import pipeline\n",
    "\n",
    "summarizer = pipeline(\"summarization\", model=\"Falconsai/text_summarization\")"
   ]
  },
  {
   "cell_type": "markdown",
   "id": "0a47e15c",
   "metadata": {},
   "source": [
    "<br><br>\n",
    "\n",
    "# Scrapping the web for Data"
   ]
  },
  {
   "cell_type": "code",
   "execution_count": 2,
   "id": "0b16e62c",
   "metadata": {},
   "outputs": [],
   "source": [
    "import requests\n",
    "from bs4 import BeautifulSoup"
   ]
  },
  {
   "cell_type": "code",
   "execution_count": 10,
   "id": "cec88587",
   "metadata": {},
   "outputs": [
    {
     "data": {
      "text/plain": [
       "'No hike in basic exemption, no increase in deductions, not even a change in tax slabs– why should taxpayers feel happy about the interim Budget announced last week? Let us enumerate the reasons. For one, the government has extended an olive branch to taxpayers stuck with petty tax demands of previous years. The Budget has proposed to withdraw all direct tax demands up to Rs.25,000 till the year 2009-10 and up to Rs.10,000 for the years 2010-11 to 2014-15.The move is expected to benefit an estimated 1 crore taxpayers, who are still disputing these tax demands. It will not only free them from the tussle with the taxman, but also pave the way for tax refunds that were held up due to pending tax demands. Rajarshi Dasgupta, Executive Director and National Head of Tax, AQUILAW, observed, “In case of a pending tax demand, any refund in the subsequent year is not processed unless such demand is addressed. By disposing of the demands, many refund claims will be expedited.”The proposal comes at a time when taxpayers are getting notices from the Income-tax Department for tax demands of previous years, some of them dating back more than 15 years. “The digitalisation of old tax records has resulted in numerous individuals facing minor demands related to past years. In most situations, even the tax department does not have the supporting documents,” says Nabin Ballodia, Partner & Leader (North), Tax & Regulatory Services, BDO India.Note:“Digitalisation of old tax records has resulted in demands of past years. In most cases, even the tax department does not have supporting documents.”Investors looking for twin engines of quality and growth.NABIN BALLODIAPARTNER & LEADER (NORTH), TAX & REGULATORY SERVICES, BDO INDIAExperts feel this relief was much needed and is aimed at improving taxpayer experience. Sudhir Kaushik, Founder of tax filing portal TaxSpanner, says, “It is not a small relief when you see the number of affected taxpayers. Older demands are painful because it is difficult to keep records for so long and defend. Taxpayers, especially those with pending refunds, were facing a lot of problems.”Instead of going through the hassles of an appeal, taxpayers often choose to pay up without challenging the department if the amount in question is small. Maneet Pal Singh, Partner, I.P. Pasricha & Co, says the step acknowledges the challenges faced by taxpayers in resolving long-standing disputes. “This may enhance taxpayer confidence, reduce litigation burdens, and promote a more collaborative approach to addressing historical tax issues,” Singh reckons.While taxpayers who are yet to pay pending tax dues will benefit, there is no relief for those whose dues have already been adjusted against the refund. Also, taxpayers with pending tax demands exceeding the specified limits will not benefit.Note: “Older demands are painful because it is difficult to keep records for so long. Taxpayers, especially those with pending refunds, were facing a lot of problems.”SUDHIR KAUSHIKCEO,TAXSPANNER.COMNew housing schemeThe other good news is the announcement of a new housing scheme for the middle class. Rapid urbanisation, high property prices, insufficient affordable housing options, and a growing population have led to housing shortages. A 2022 RICSKnight Frank report states that nearly 30% of Indians live in rented homes.Though specific details are awaited, the Budget announcement promises millions of Indians the dignity of living in their own homes. It would also have a ripple effect on the economy. Says Manish Jaiswal, MD and CEO at Grihum Housing Finance (formerly Poonawalla Housing Finance): “Constructing a 500 sq ft home, costing Rs.10-12 lakh, propels informal employment and rural economic growth. The housing sector is poised to triple into a trillion-dollar economy in this decade.”This bodes well for the housing finance sector. “This initiative may also spur innovation in housing finance products, catering to the unique needs of the targeted segments grappling with challenges such as fluctuating income, low credit scores, or the absence of credit history,” says Shabala Shinde, Partner and Real Estate & REITs Industry Leader, Grant Thornton Bharat.However, given the blurred lines of what constitutes middle-class income households, the specifics of the proposed scheme should be clearly spelt out. “To ensure its success, precise eligibility requirements, transparent allocation procedures, subsidies, interest rate breaks, and down payment assistance programs are necessary,” says Anuj Puri, Chairman of the ANAROCK Group.The government’s existing credit linked subsidy scheme (CLSS) offers about Rs.2.3 lakh upfront subsidy for middle income groups over a 20-year loan period. Additionally, the government allows deductions under Section 80EE and 80EEA of the Income-tax Act for affordable housing buyers. These are over and above the deduction of Rs.2 lakh available to home buyers on the interest paid on a home loan under Section 24.Infra push continuesEarlier this year, we said that the enormous capital expenditure plans of the government and the projects lined up in the coming years are likely to benefit the infrastructure sector. The Budget reiterated the government’s focus on infrastructure development by proposing to raise capital expenditure by 11.1% to Rs.11.11 lakh crore. This is 3.4% of the GDP and is good news for the companies engaged in construction and infrastructure development.The focus will be on roads and power. Analysts say though project awarding by the NHAI has remained subdued between April and October 2023, it is expected to pick up over the next few quarters. Moderating the input prices will further provide support to the sector.Steel prices have fallen close to 25% and aluminium prices by 32% since April 2022. The margins and profitability for road construction companies are expected to improve in the second half of 2023-24 due to the decline in steel and aluminium prices, states a Motilal Oswal report.The other positivesThe Ayushman Bharat - Pradhan Mantri Jan Arogya Yojna (PMJAY) health insurance scheme will now be extended to all Accredited Social Health Activists (ASHA), anganwadi workers and helpers. The allocation for this public health insurance scheme has been increased from Rs.6,800 crore to Rs.7,500 crore in the interim Budget. The scheme aims to offer a health cover of Rs.5 lakh per family for secondary and tertiary care hospitalisation.Tourism is bound to receive a boost with the announcement of long-term interestfree loans to states for developing iconic tourist centres on a global scale. Airport development, port connectivity and improvement of tourism infrastructure on the islands, including Lakshadweep, is also on the cards in a big way.Note: “Construction of a house propels informal employment and rural economic growth. The housing sector is poised to treble in size.”MANISH JAISWAL MD & CEO, GRIHUM HOUSING FINANCE'"
      ]
     },
     "execution_count": 10,
     "metadata": {},
     "output_type": "execute_result"
    }
   ],
   "source": [
    "url = 'https://economictimes.indiatimes.com/wealth/tax/what-budget-2024-means-for-you-positive-takeaways-from-the-interim-budget/articleshow/107377274.cms?from=mdr'\n",
    "response = requests.get(url)\n",
    "\n",
    "soup = BeautifulSoup(response.text, 'html.parser')\n",
    "target_element = soup.find(class_='artText')\n",
    "text = target_element.get_text()\n",
    "text"
   ]
  },
  {
   "cell_type": "markdown",
   "id": "7d5d5c70",
   "metadata": {},
   "source": [
    "<br><br>\n",
    "\n",
    "# Using Summersizer\n",
    "\n",
    "Here the summerizer we aree using has a word limit of 512 words , so let us make a function that will split the main paragraph into smaller paragraps of length less than 512 words ."
   ]
  },
  {
   "cell_type": "code",
   "execution_count": 4,
   "id": "edc7a5ae",
   "metadata": {},
   "outputs": [],
   "source": [
    "def split_paragraphs(text):\n",
    "    MAX_WORDS_PER_PARAGRAPH = 512\n",
    "    paragraphs = []\n",
    "    words = text.split()\n",
    "    current_paragraph = []\n",
    "\n",
    "    for word in words:\n",
    "        if len(' '.join(current_paragraph + [word])) <= MAX_WORDS_PER_PARAGRAPH:\n",
    "            current_paragraph.append(word)\n",
    "        else:\n",
    "            paragraphs.append(' '.join(current_paragraph))\n",
    "            current_paragraph = [word]\n",
    "\n",
    "    if current_paragraph:\n",
    "        paragraphs.append(' '.join(current_paragraph))\n",
    "\n",
    "    return paragraphs"
   ]
  },
  {
   "cell_type": "markdown",
   "id": "89d79237",
   "metadata": {},
   "source": [
    "### Split our web-scrapped data"
   ]
  },
  {
   "cell_type": "code",
   "execution_count": 5,
   "id": "f0884feb",
   "metadata": {},
   "outputs": [],
   "source": [
    "split_para = split_paragraphs(text)"
   ]
  },
  {
   "cell_type": "markdown",
   "id": "4b7e941d",
   "metadata": {},
   "source": [
    "## Apply the summerizer into all the paragraphs "
   ]
  },
  {
   "cell_type": "code",
   "execution_count": 6,
   "id": "6a93b347",
   "metadata": {},
   "outputs": [
    {
     "data": {
      "text/plain": [
       "'Budget has proposed to withdraw all direct tax demands taxpayers are still disputing tax demands  Income-tax Department has been notified of Tax filing portal TaxSpanner says it is Taxpayers, especially those with pending taxpayers who are yet to pay pending Rapid urbanisation, high property prices, in Grihum Housing Finance (formerly Poon the specifics of the proposed scheme should be government’s existing credit linked subsidy scheme Budget reiterated government’s focus on infrastructure the input prices will further provide support to the allocation for public health insurance scheme increased from Rs development, port connectivity and improvement of tourism infrastructure'"
      ]
     },
     "execution_count": 6,
     "metadata": {},
     "output_type": "execute_result"
    }
   ],
   "source": [
    "summarized_paragraphs = []\n",
    "\n",
    "for paragraph in split_para:\n",
    "    summary = summarizer(paragraph, max_length=10, min_length=5, do_sample=False)[0]['summary_text']\n",
    "    summarized_paragraphs.append(summary)\n",
    "\n",
    "sum_txt = ' '.join(summarized_paragraphs)\n",
    "sum_txt"
   ]
  },
  {
   "cell_type": "markdown",
   "id": "fecd0fcd",
   "metadata": {},
   "source": [
    "## Store the result in a file "
   ]
  },
  {
   "cell_type": "code",
   "execution_count": 7,
   "id": "78ff43b5",
   "metadata": {},
   "outputs": [
    {
     "name": "stdout",
     "output_type": "stream",
     "text": [
      "Text data has been stored in summary.txt.\n"
     ]
    }
   ],
   "source": [
    "with open(\"summary.txt\", \"w\", encoding=\"utf-8-sig\") as file:\n",
    "    file.write(sum_txt)\n",
    "    \n",
    "print(\"Text data has been stored in summary.txt.\")"
   ]
  },
  {
   "cell_type": "markdown",
   "id": "e36f2711",
   "metadata": {},
   "source": [
    "# Words reduced "
   ]
  },
  {
   "cell_type": "code",
   "execution_count": 8,
   "id": "8097ce2a",
   "metadata": {},
   "outputs": [
    {
     "data": {
      "text/plain": [
       "1078"
      ]
     },
     "execution_count": 8,
     "metadata": {},
     "output_type": "execute_result"
    }
   ],
   "source": [
    "len(text.split())"
   ]
  },
  {
   "cell_type": "code",
   "execution_count": 9,
   "id": "13e46218",
   "metadata": {},
   "outputs": [
    {
     "data": {
      "text/plain": [
       "97"
      ]
     },
     "execution_count": 9,
     "metadata": {},
     "output_type": "execute_result"
    }
   ],
   "source": [
    "len(sum_txt.split())"
   ]
  }
 ],
 "metadata": {
  "kernelspec": {
   "display_name": "Python 3 (ipykernel)",
   "language": "python",
   "name": "python3"
  },
  "language_info": {
   "codemirror_mode": {
    "name": "ipython",
    "version": 3
   },
   "file_extension": ".py",
   "mimetype": "text/x-python",
   "name": "python",
   "nbconvert_exporter": "python",
   "pygments_lexer": "ipython3",
   "version": "3.11.5"
  }
 },
 "nbformat": 4,
 "nbformat_minor": 5
}
